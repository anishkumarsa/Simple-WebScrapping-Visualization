{
 "cells": [
  {
   "cell_type": "markdown",
   "metadata": {},
   "source": [
    "# To Create Insights about Kerala Deceased Donor Transplant Data From         Aug 2012 to May 2020"
   ]
  },
  {
   "cell_type": "markdown",
   "metadata": {},
   "source": [
    "# Parsing Data From the knos.org.in"
   ]
  },
  {
   "cell_type": "code",
   "execution_count": null,
   "metadata": {},
   "outputs": [],
   "source": [
    "from bs4 import BeautifulSoup\n",
    "import urllib.request\n",
    "import urllib.parse\n",
    "import pandas as pd\n",
    "import numpy as np\n",
    "import csv\n",
    "page=urllib.request.urlopen('http://knos.org.in/yearlystatistics.aspx')\n",
    "soup=BeautifulSoup(page,'html.parser')\n",
    "a=soup.find_all('div',{'class':'container'})\n",
    "for b in a:\n",
    "    table = b.find('table', {'class': 'datas'})\n",
    "for n in table:\n",
    "    td=table.find_all('td')\n",
    "    \n",
    "#Creating a DataFrame from the Parsing   \n",
    "dat=[td[i].text for i in range (len(td))]    \n",
    "new=np.array(dat).reshape(11,11)\n",
    "data=pd.DataFrame((new),columns=list(new[0]))\n",
    "data.drop(index=0,axis=0,inplace=True)  \n",
    "indNam=list(data['Year'])\n",
    "data.index=indNam\n",
    "data.drop(columns='Year',inplace=True)\n",
    "\n",
    "#data.to_csv('donor.csv') # If you want to create a CSV file\n",
    "\n",
    "#organ Data Frame\n",
    "organ=data.drop(index=['Donors From Kerala','Total Major Organs'],axis=0)\n",
    "organ=organ.drop(columns='Total')\n",
    "organ=organ.astype('int')\n"
   ]
  },
  {
   "cell_type": "code",
   "execution_count": null,
   "metadata": {},
   "outputs": [],
   "source": [
    "data"
   ]
  },
  {
   "cell_type": "markdown",
   "metadata": {},
   "source": [
    "# Visualizing"
   ]
  },
  {
   "cell_type": "markdown",
   "metadata": {},
   "source": [
    "# Overview of Transplant in Kerala"
   ]
  },
  {
   "cell_type": "code",
   "execution_count": null,
   "metadata": {},
   "outputs": [],
   "source": [
    "import tkinter as tk\n",
    "%matplotlib\n",
    "br=organ.plot(kind='bar',figsize=(20,70),rot=360)\n",
    "br.set_xlabel('Organs',size=20)\n",
    "br.set_ylabel('No of Transplant',size=20)\n",
    "#br.legend(xl,fontsize='large')\n",
    "br.set_title('Overview of Transplant in Kerala',size=20)\n",
    "\n",
    "for i in br.patches:\n",
    "    # get_x pulls left or right; get_height pushes up or down\n",
    "    br.text(i.get_x()-.02,i.get_height()+.7,str(round(i.get_height(),2)),fontsize=12,color='black')"
   ]
  },
  {
   "cell_type": "markdown",
   "metadata": {},
   "source": [
    "# Percentage Of Transplants From Aug 2012-May 2020"
   ]
  },
  {
   "cell_type": "code",
   "execution_count": null,
   "metadata": {},
   "outputs": [],
   "source": [
    "import matplotlib.pyplot as plt\n",
    "plt.figure(figsize=(20,10))\n",
    "plt.title('Percentage Of Transplants From Aug 2012-May 2020',size=46)\n",
    "a1=data.loc['Total Major Organs'][0:9].values\n",
    "b1=data.loc['Total Major Organs'][0:9].index\n",
    "lb=[str(a1[i])+ '('+str(b1[i])+')'for i in range (len(a1))]\n",
    "\n",
    "#The Code given below adopted from Matplotlib.pyplot.pie  \n",
    "\n",
    "#Ref :https://matplotlib.org/3.2.1/gallery/pie_and_polar_charts/pie_and_donut_labels.html#sphx-glr-gallery-pie-and-polar-charts-pie-and-donut-labels-py\n",
    "#Ref :https://matplotlib.org/3.2.1/gallery/pie_and_polar_charts/pie_demo2.html#sphx-glr-gallery-pie-and-polar-charts-pie-demo2-py\n",
    "\n",
    "patches, texts, autotexts = plt.pie(data.loc['Total Major Organs'][0:9] , labels=lb,\n",
    "                                          autopct='%1.0f%%',\n",
    "                                          shadow=False, radius=1.0) \n",
    "plt.legend(data.loc['Total Major Organs'][0:9].index,\n",
    "          title=\"Year\",\n",
    "          loc=\"upper left\",\n",
    "          bbox_to_anchor=(1, 0, 0.5, 1),fontsize='large')\n",
    "for i in range(5):\n",
    "    autotexts[i].set_color('white')\n",
    "    \n",
    "plt.show()\n"
   ]
  },
  {
   "cell_type": "markdown",
   "metadata": {},
   "source": [
    "# Deceased Donors From Aug 2012-May 2020"
   ]
  },
  {
   "cell_type": "code",
   "execution_count": null,
   "metadata": {},
   "outputs": [],
   "source": [
    "plt.figure(figsize=(20,10))\n",
    "plt.title('Deceased Donors From Kerala',size=49)\n",
    "c1=data.loc['Donors From Kerala'][:9].values\n",
    "d1=data.loc['Donors From Kerala'][:9].index\n",
    "plt.plot(c1,'bo-')\n",
    "plt.xticks([0,1,2,3,4,5,6,7,8],d1)\n",
    "plt.xlabel('Year',size=20)\n",
    "plt.ylabel('Deceased Donors',size=20)\n",
    "\n",
    "\n",
    "xs = np.arange(0,10,1)\n",
    "\n",
    "for x,y in zip(xs,c1):\n",
    "    label = \"{:.0f}\".format(y)\n",
    "    plt.annotate(label, # this is the text\n",
    "                 (x,y), # this is the point to label\n",
    "                 textcoords=\"offset points\", # how to position the text\n",
    "                 xytext=(0,10), # distance from text to points (x,y)\n",
    "                 ha='center') # horizontal alignment can be left, right or center\n",
    "   \n",
    "plt.show()\n"
   ]
  },
  {
   "cell_type": "markdown",
   "metadata": {},
   "source": [
    "# Major Organ Transplanted in Kerala"
   ]
  },
  {
   "cell_type": "code",
   "execution_count": null,
   "metadata": {},
   "outputs": [],
   "source": [
    "import matplotlib.pyplot as plt\n",
    "plt.figure(figsize=(20,10))\n",
    "plt.title('Percentage Of Organ Transplanted',size=46)\n",
    "e1=data['Total'][1:9].values\n",
    "f1=data['Total'][1:9].index\n",
    "lb1=[str(f1[i])+ '('+str(e1[i])+')'for i in range (len(e1))]\n",
    "\n",
    "\n",
    "patches, texts, autotexts = plt.pie(data['Total'][1:9] , labels=lb1,\n",
    "                                          autopct='%1.2f%%',\n",
    "                                          shadow=False, radius=1.0)\n",
    "plt.legend(data['Total'][1:9].index,\n",
    "          title=\"Organs\",\n",
    "          loc=\"upper left\",\n",
    "          bbox_to_anchor=(1, 0, 0.5, 1),fontsize='large')\n",
    "for i in range(5):\n",
    "    autotexts[i].set_color('white')\n",
    "    \n",
    "plt.show()\n"
   ]
  }
 ],
 "metadata": {
  "kernelspec": {
   "display_name": "Python 3",
   "language": "python",
   "name": "python3"
  },
  "language_info": {
   "codemirror_mode": {
    "name": "ipython",
    "version": 3
   },
   "file_extension": ".py",
   "mimetype": "text/x-python",
   "name": "python",
   "nbconvert_exporter": "python",
   "pygments_lexer": "ipython3",
   "version": "3.8.2"
  }
 },
 "nbformat": 4,
 "nbformat_minor": 2
}
